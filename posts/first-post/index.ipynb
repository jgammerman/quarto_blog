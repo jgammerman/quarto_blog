{
  "cells": [
    {
      "cell_type": "raw",
      "metadata": {},
      "source": [
        "---\n",
        "title: Text Classification with LLMs (part 1)\n",
        "description: TODO\n",
        "author: James Gammerman\n",
        "date: 10/29/2024\n",
        "draft: false\n",
        "format:\n",
        "  html:\n",
        "    code-fold: false\n",
        "execute:\n",
        "  cache: true\n",
        "  kernel: thellmbook\n",
        "bibliography: references.bib\n",
        "---"
      ],
      "id": "02c13ff6"
    },
    {
      "cell_type": "markdown",
      "metadata": {},
      "source": [
        "# Introduction\n",
        "\n",
        "Welcome to my first blog post!\n",
        "\n",
        "I'm currently reading the excellent [Hands-On Large Language Models](https://www.oreilly.com/library/view/hands-on-large-language/9781098150952/) book by Jay Alammar and Maarten Grootendorst. I highly recommend it to anyone looking to up their LLM skills!\n",
        "\n",
        "In order to get the most out of these kinds of books, I find it's best to take the code in them and then adapt it to a new dataset. So in that spirit, I'm going to do my own version of Chapter 4, which is all about *text classification*.\n",
        "\n",
        "There are many different kinds of LLM. Broadly speaking we can put them into two categories:\n",
        "\n",
        "1.  **Representation models** are designed to understand and represent the meaning of text. They convert input into dense embeddings that capture its semantic information. These embeddings can either be used directly for classification or as input to a traditional classifier, depending on the task. These models typically use an encoder-only architecture, and notable examples include BERT, RoBERTa, and Sentence-BERT.\n",
        "\n",
        "2.  **Generative models**, on the other hand, focus on generating new text. They are trained to predict the next word in a sequence, allowing them to produce text that resembles the training data. For classification, they can be adapted by using a carefully crafted prompt that guides them to generate a response corresponding to the class label. Generative models use either decoder-only or encoder-decoder architectures. Examples include the GPT family (including ChatGPT), Flan-T5, and even DALL-E for image generation.\n",
        "\n",
        "The difference between the two is shown in @fig-rep-vs-gen-models. In this blog post we'll focus on representation models, and in part 2 we'll look at generative models.\n",
        "\n",
        "![Both representation and generative models can be used for classification, but they take different approaches. Taken from the book.](images/rep-models-vs-gen-models.jpg){#fig-rep-vs-gen-models}\n",
        "\n",
        "## Text classification with representation models\n",
        "\n",
        "When used for classification tasks, representation models can be broadly divided into:\n",
        "\n",
        "1.  **Task-Specific Models**: These models involve starting with a general-purpose pre-trained model (such as BERT) and fine-tuning it directly for a specific task, such as sentiment classification. They take the input text and output the class label directly, making it a one-step process that is optimised for classification.\n",
        "\n",
        "2.  **Embedding Models**: These models are fine-tuned to generate embeddings that capture the meaning of the text. The embeddings are then used as input features for a separate, traditional classifier (e.g., logistic regression) to predict the class label. So this can be thought of as a two-step process: first, encode the text, and secondly classify it with a simpler model.\n",
        "\n",
        "@fig-2-types-rep-models illustrates these two approaches.\n",
        "\n",
        "![Classification can be done directly with a task-specific model or indirectly with an embedding model](images/2-types-of-rep-models.jpg){#fig-2-types-rep-models}\n",
        "![Alt text](path/to/your/image.png)\n",
        "\n",
        "# The data\n",
        "\n",
        "The dataset we will use is the **Amazon Polarity Dataset**. This dataset contains reviews from Amazon, categorised as either positive or negative sentiment. Each entry consists of a title, the review text, and the associated sentiment label.\n",
        "\n",
        "We start by loading the data and splitting into a training and test set (no need for a validation set here as we won't be tuning any hyperparameters):\n"
      ],
      "id": "74735d04"
    },
    {
      "cell_type": "code",
      "metadata": {
        "cache": true
      },
      "source": [
        "#| label: Load data\n",
        "from datasets import load_dataset\n",
        "\n",
        "# Load our data\n",
        "data = load_dataset(\"amazon_polarity\")\n",
        "\n",
        "# Take a random sample of 10k training examples and 2k test examples\n",
        "train_sample = data[\"train\"].shuffle(seed=42).select(range(10000))\n",
        "test_sample = data[\"test\"].shuffle(seed=42).select(range(2000))"
      ],
      "id": "Load-data",
      "execution_count": null,
      "outputs": []
    },
    {
      "cell_type": "markdown",
      "metadata": {},
      "source": [
        "Let's check how many positive and negative labels we have in each set:\n"
      ],
      "id": "accd2395"
    },
    {
      "cell_type": "code",
      "metadata": {
        "cache": true
      },
      "source": [
        "from collections import Counter\n",
        "\n",
        "# Count the number of occurrences of each label in the training and test data\n",
        "label_counts = Counter(train_sample[\"label\"])\n",
        "print(f\"Label Counts in Training Set: {label_counts}\")\n",
        "label_counts = Counter(test_sample[\"label\"])\n",
        "print(f\"Label Counts in Test Set: {label_counts}\")"
      ],
      "id": "44eacf8c",
      "execution_count": null,
      "outputs": []
    },
    {
      "cell_type": "markdown",
      "metadata": {},
      "source": [
        "So we have a balanced dataset. A label of `1` indicates a positive review, and `0` a negative review.\n",
        "\n",
        "Let's take a quick look at a couple of examples to understand the structure of the dataset:\n"
      ],
      "id": "3212e8a4"
    },
    {
      "cell_type": "code",
      "metadata": {
        "cache": true
      },
      "source": [
        "# import json\n",
        "# print(json.dumps(train_sample[0], indent=4))\n",
        "# print(json.dumps(train_sample[5], indent=4))\n",
        "\n",
        "print(train_sample[0])\n",
        "print(train_sample[2])"
      ],
      "id": "7f81e772",
      "execution_count": null,
      "outputs": []
    },
    {
      "cell_type": "markdown",
      "metadata": {},
      "source": [
        "So each review is a dictionary containing a `label`, `title` and `content` key.\n",
        "\n",
        "# 1. Task-specific model\n",
        "\n",
        "## Selecting the model\n",
        "\n",
        "So which LLM should we use? As of now, there are over 60,000 models available on Hugging Face for text classification and 8,000 for embeddings. As ever with LLMs, picking the right one involves a trade-off between size and performance.\n",
        "\n",
        "As mentioned earlier, BERT is a popular architecture for creating both task-specific and embedding models. Many variations of it are now available. In the book they used one called`RoBERTa`, but here we will use a variation of `DistilBERT` called `DistilBERT base model (uncased)`, a lighter and faster version of BERT that is fine-tuned specifically for sentiment analysis. So it should give good results!\n",
        "\n",
        "## Loading the model\n",
        "\n",
        "Now that we've picked our task-specific representation model, we can proceed by loading the model:\n"
      ],
      "id": "407983ce"
    },
    {
      "cell_type": "code",
      "metadata": {
        "cache": true
      },
      "source": [
        "#| eval: false\n",
        "#| label: Load model\n",
        "\n",
        "# Import the pipeline function from the transformers library\n",
        "from transformers import pipeline\n",
        "\n",
        "# Path to HF model\n",
        "model_path = \"distilbert-base-uncased-finetuned-sst-2-english\"\n",
        "\n",
        "# Load the model into a pipeline\n",
        "pipe = pipeline(\n",
        "    model=model_path,\n",
        "    tokenizer=model_path,\n",
        "    # return_all_scores=True,\n",
        "    top_k=None,\n",
        "    device=\"cuda:0\" # change this to \"-1\" if you only have access to a CPU not GPU\n",
        ")"
      ],
      "id": "Load-model",
      "execution_count": null,
      "outputs": []
    },
    {
      "cell_type": "markdown",
      "metadata": {},
      "source": [
        "## Testing the model out\n",
        "\n",
        "Let's use our pre-trained BERT-based model to classify some sample reviews from our dataset. We'll run it on a couple to see how well it predicts the sentiment:\n"
      ],
      "id": "f18874ff"
    },
    {
      "cell_type": "code",
      "metadata": {
        "cache": true
      },
      "source": [
        "#| eval: false\n",
        "sample_review = train_sample[8][\"content\"]\n",
        "\n",
        "result = pipe(sample_review)\n",
        "print(f\"Review: {sample_review}\")\n",
        "print(f\"Sentiment Analysis Result: {result}\")"
      ],
      "id": "43687ef3",
      "execution_count": null,
      "outputs": []
    },
    {
      "cell_type": "markdown",
      "metadata": {},
      "source": [
        "![](images/1.jpg)\n",
        "\n",
        "::: \n",
        "![](images/1.jpg){ width=50% height=200px }\n",
        ":::\n",
        "\n",
        "Blah blah\n",
        "\n",
        "# References"
      ],
      "id": "ebb8fc1e"
    }
  ],
  "metadata": {
    "kernelspec": {
      "name": "thellmbook",
      "language": "python",
      "display_name": "Python (thellmbook)"
    }
  },
  "nbformat": 4,
  "nbformat_minor": 5
}